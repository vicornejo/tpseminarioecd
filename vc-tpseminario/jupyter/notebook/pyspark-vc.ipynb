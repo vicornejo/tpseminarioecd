{
 "cells": [
  {
   "cell_type": "markdown",
   "metadata": {},
   "source": [
    "# Analisis de datos de viajes en medios de transporte publico en CABA\n",
    "\n",
    "#### Tomo como referencia notebooks vistos en clase y sumo otros scripts investigados individualmente\n",
    "#### pySpark Commands Reference\n",
    "https://spark.apache.org/docs/2.4.4/api/python/index.html\n",
    "\n",
    "\n",
    "#### Connect to Spark Cluster\n",
    "https://github.com/minrk/findspark"
   ]
  },
  {
   "cell_type": "code",
   "execution_count": 1,
   "metadata": {},
   "outputs": [],
   "source": [
    "import findspark\n",
    "findspark.init()"
   ]
  },
  {
   "cell_type": "code",
   "execution_count": 2,
   "metadata": {},
   "outputs": [],
   "source": [
    "from pyspark.sql import SparkSession\n",
    "spark = (\n",
    "    SparkSession.builder\n",
    "    .appName(\"pyspark-df-overview\")\n",
    "    .config(\"spark.driver.memory\", \"512m\")\n",
    "    .config(\"spark.driver.cores\", \"1\")\n",
    "    .config(\"spark.executor.memory\", \"512m\")\n",
    "    .config(\"spark.executor.cores\", \"1\")\n",
    "    .config(\"spark.sql.shuffle.partitions\", \"2\")\n",
    "    .getOrCreate()\n",
    ")"
   ]
  },
  {
   "cell_type": "code",
   "execution_count": 3,
   "metadata": {},
   "outputs": [
    {
     "data": {
      "text/plain": [
       "'2.4.5'"
      ]
     },
     "execution_count": 3,
     "metadata": {},
     "output_type": "execute_result"
    }
   ],
   "source": [
    "spark.version"
   ]
  },
  {
   "cell_type": "markdown",
   "metadata": {},
   "source": [
    "### Creo un Spark DataFrame\n",
    "Dataset: https://data.buenosaires.gob.ar/dataset/sube/resource/b88f4c3d-325d-4397-93ff-c54657357092"
   ]
  },
  {
   "cell_type": "code",
   "execution_count": 4,
   "metadata": {},
   "outputs": [
    {
     "name": "stdout",
     "output_type": "stream",
     "text": [
      "root\n",
      " |-- TIPO_TRANSPORTE: string (nullable = true)\n",
      " |-- DIA: string (nullable = true)\n",
      " |-- PARCIAL: string (nullable = true)\n",
      " |-- CANTIDAD: string (nullable = true)\n",
      "\n"
     ]
    }
   ],
   "source": [
    "df = spark.read.csv(\"/dataset/dataset_viajes_sube.csv\", header=True)\n",
    "df.printSchema()"
   ]
  },
  {
   "cell_type": "markdown",
   "metadata": {},
   "source": [
    "### Define a schema"
   ]
  },
  {
   "cell_type": "code",
   "execution_count": 5,
   "metadata": {},
   "outputs": [],
   "source": [
    "import pyspark.sql.types as t\n",
    "\n",
    "viajes_schema = t.StructType([\n",
    "      t.StructField('TIPO_TRANSPORTE', t.StringType(), True)\n",
    "    , t.StructField('DIA', t.StringType(), True)\n",
    "    , t.StructField('PARCIAL', t.StringType(), True)\n",
    "    , t.StructField('CANTIDAD', t.IntegerType(), True)\n",
    "])"
   ]
  },
  {
   "cell_type": "code",
   "execution_count": 6,
   "metadata": {},
   "outputs": [
    {
     "name": "stdout",
     "output_type": "stream",
     "text": [
      "root\n",
      " |-- TIPO_TRANSPORTE: string (nullable = true)\n",
      " |-- DIA: string (nullable = true)\n",
      " |-- PARCIAL: string (nullable = true)\n",
      " |-- CANTIDAD: integer (nullable = true)\n",
      "\n"
     ]
    }
   ],
   "source": [
    "# Support for compressed (gziped) payload\n",
    "df = spark.read.csv(\"/dataset/dataset_viajes_sube.csv\", header=True, schema=viajes_schema)\n",
    "df.printSchema()"
   ]
  },
  {
   "cell_type": "code",
   "execution_count": 7,
   "metadata": {},
   "outputs": [
    {
     "data": {
      "text/plain": [
       "1835"
      ]
     },
     "execution_count": 7,
     "metadata": {},
     "output_type": "execute_result"
    }
   ],
   "source": [
    "df.count()"
   ]
  },
  {
   "cell_type": "markdown",
   "metadata": {},
   "source": [
    "### Modifico el campo de la fecha para poder trabajarlo y elimino los que no voy a usar"
   ]
  },
  {
   "cell_type": "code",
   "execution_count": 8,
   "metadata": {},
   "outputs": [
    {
     "name": "stdout",
     "output_type": "stream",
     "text": [
      "+---------------+------------------+-------+--------+---------+\n",
      "|TIPO_TRANSPORTE|               DIA|PARCIAL|CANTIDAD|    fecha|\n",
      "+---------------+------------------+-------+--------+---------+\n",
      "|          Subte|31MAR2020:00:00:00|   null|    null|31MAR2020|\n",
      "|          Subte|01APR2020:00:00:00|   null|    null|01APR2020|\n",
      "|          Subte|02APR2020:00:00:00|   null|    null|02APR2020|\n",
      "|          Subte|03APR2020:00:00:00|   null|    null|03APR2020|\n",
      "|          Subte|04APR2020:00:00:00|   null|    null|04APR2020|\n",
      "|          Subte|05APR2020:00:00:00|   null|    null|05APR2020|\n",
      "|          Subte|06APR2020:00:00:00|   null|    null|06APR2020|\n",
      "|          Subte|07APR2020:00:00:00|   null|    null|07APR2020|\n",
      "|          Subte|08APR2020:00:00:00|   null|    null|08APR2020|\n",
      "|          Subte|09APR2020:00:00:00|   null|    null|09APR2020|\n",
      "|          Subte|10APR2020:00:00:00|   null|    null|10APR2020|\n",
      "|          Subte|11APR2020:00:00:00|   null|    null|11APR2020|\n",
      "|          Subte|12APR2020:00:00:00|   null|    null|12APR2020|\n",
      "|          Subte|13APR2020:00:00:00|   null|    null|13APR2020|\n",
      "|          Subte|14APR2020:00:00:00|   null|    null|14APR2020|\n",
      "|          Subte|15APR2020:00:00:00|   null|    null|15APR2020|\n",
      "|          Subte|16APR2020:00:00:00|   null|    null|16APR2020|\n",
      "|          Subte|17APR2020:00:00:00|   null|    null|17APR2020|\n",
      "|          Subte|18APR2020:00:00:00|   null|    null|18APR2020|\n",
      "|          Subte|19APR2020:00:00:00|   null|    null|19APR2020|\n",
      "+---------------+------------------+-------+--------+---------+\n",
      "only showing top 20 rows\n",
      "\n"
     ]
    }
   ],
   "source": [
    "from pyspark.sql.functions import split\n",
    "dfDate = df.withColumn(\"fecha\", split(\"DIA\", \":\").getItem(0))\n",
    "dfDate.show()\n",
    "\n"
   ]
  },
  {
   "cell_type": "code",
   "execution_count": 9,
   "metadata": {},
   "outputs": [
    {
     "name": "stdout",
     "output_type": "stream",
     "text": [
      "     TIPO_TRANSPORTE                 DIA PARCIAL  CANTIDAD      fecha dia2  \\\n",
      "0              Subte  31MAR2020:00:00:00    None       0.0  31MAR2020   31   \n",
      "1              Subte  01APR2020:00:00:00    None       0.0  01APR2020   01   \n",
      "2              Subte  02APR2020:00:00:00    None       0.0  02APR2020   02   \n",
      "3              Subte  03APR2020:00:00:00    None       0.0  03APR2020   03   \n",
      "4              Subte  04APR2020:00:00:00    None       0.0  04APR2020   04   \n",
      "...              ...                 ...     ...       ...        ...  ...   \n",
      "1830           Subte  25SEP2021:00:00:00    True  230834.0  25SEP2021   25   \n",
      "1831           Subte  26SEP2021:00:00:00    True  133714.0  26SEP2021   26   \n",
      "1832            Tren  25SEP2021:00:00:00   False  516037.0  25SEP2021   25   \n",
      "1833            Tren  26SEP2021:00:00:00   False  239172.0  26SEP2021   26   \n",
      "1834            Tren  27SEP2021:00:00:00    True  829845.0  27SEP2021   27   \n",
      "\n",
      "      mes  anio  \n",
      "0     MAR  2020  \n",
      "1     APR  2020  \n",
      "2     APR  2020  \n",
      "3     APR  2020  \n",
      "4     APR  2020  \n",
      "...   ...   ...  \n",
      "1830  SEP  2021  \n",
      "1831  SEP  2021  \n",
      "1832  SEP  2021  \n",
      "1833  SEP  2021  \n",
      "1834  SEP  2021  \n",
      "\n",
      "[1835 rows x 8 columns]\n"
     ]
    }
   ],
   "source": [
    "import pandas as pd\n",
    "\n",
    "dfFecha = dfDate.toPandas()\n",
    "\n",
    "dfFecha['dia2'] = dfFecha['fecha'].str.extract('(\\d\\d)', expand = True) \n",
    "dfFecha['mes'] = dfFecha['fecha'].str.extract('\\d\\d(\\w\\w\\w)', expand=True) \n",
    "dfFecha['anio'] = dfFecha['fecha'].str.extract('(\\d\\d\\d\\d)', expand=True) \n",
    "dfFecha['CANTIDAD'] = dfFecha['CANTIDAD'].fillna(0)\n",
    "\n",
    "print(dfFecha) "
   ]
  },
  {
   "cell_type": "code",
   "execution_count": 10,
   "metadata": {},
   "outputs": [],
   "source": [
    "dfFecha['dia2'] = pd.to_numeric(dfFecha['dia2'])\n",
    "dfFecha['anio'] = pd.to_numeric(dfFecha['anio'])\n",
    "dfFecha['CANTIDAD'] = pd.to_numeric(dfFecha['CANTIDAD'])"
   ]
  },
  {
   "cell_type": "code",
   "execution_count": 11,
   "metadata": {},
   "outputs": [
    {
     "name": "stdout",
     "output_type": "stream",
     "text": [
      "+---------------+------------------+-------+---------+---------+----+---+----+\n",
      "|TIPO_TRANSPORTE|               DIA|PARCIAL| CANTIDAD|    fecha|dia2|mes|anio|\n",
      "+---------------+------------------+-------+---------+---------+----+---+----+\n",
      "|          Subte|31MAR2020:00:00:00|   null|      0.0|31MAR2020|  31|MAR|2020|\n",
      "|          Subte|01APR2020:00:00:00|   null|      0.0|01APR2020|   1|APR|2020|\n",
      "|          Subte|02APR2020:00:00:00|   null|      0.0|02APR2020|   2|APR|2020|\n",
      "|          Subte|03APR2020:00:00:00|   null|      0.0|03APR2020|   3|APR|2020|\n",
      "|          Subte|04APR2020:00:00:00|   null|      0.0|04APR2020|   4|APR|2020|\n",
      "|          Subte|05APR2020:00:00:00|   null|      0.0|05APR2020|   5|APR|2020|\n",
      "|          Subte|06APR2020:00:00:00|   null|      0.0|06APR2020|   6|APR|2020|\n",
      "|          Subte|07APR2020:00:00:00|   null|      0.0|07APR2020|   7|APR|2020|\n",
      "|          Subte|08APR2020:00:00:00|   null|      0.0|08APR2020|   8|APR|2020|\n",
      "|          Subte|09APR2020:00:00:00|   null|      0.0|09APR2020|   9|APR|2020|\n",
      "|          Subte|10APR2020:00:00:00|   null|      0.0|10APR2020|  10|APR|2020|\n",
      "|          Subte|11APR2020:00:00:00|   null|      0.0|11APR2020|  11|APR|2020|\n",
      "|          Subte|12APR2020:00:00:00|   null|      0.0|12APR2020|  12|APR|2020|\n",
      "|          Subte|13APR2020:00:00:00|   null|      0.0|13APR2020|  13|APR|2020|\n",
      "|          Subte|14APR2020:00:00:00|   null|      0.0|14APR2020|  14|APR|2020|\n",
      "|          Subte|15APR2020:00:00:00|   null|      0.0|15APR2020|  15|APR|2020|\n",
      "|          Subte|16APR2020:00:00:00|   null|      0.0|16APR2020|  16|APR|2020|\n",
      "|          Subte|17APR2020:00:00:00|   null|      0.0|17APR2020|  17|APR|2020|\n",
      "|          Subte|18APR2020:00:00:00|   null|      0.0|18APR2020|  18|APR|2020|\n",
      "|          Subte|19APR2020:00:00:00|   null|      0.0|19APR2020|  19|APR|2020|\n",
      "|          Subte|20APR2020:00:00:00|   null|      0.0|20APR2020|  20|APR|2020|\n",
      "|          Subte|21APR2020:00:00:00|   null|      0.0|21APR2020|  21|APR|2020|\n",
      "|          Subte|22APR2020:00:00:00|   null|      0.0|22APR2020|  22|APR|2020|\n",
      "|          Subte|23APR2020:00:00:00|   null|      0.0|23APR2020|  23|APR|2020|\n",
      "|          Subte|24APR2020:00:00:00|   null|      0.0|24APR2020|  24|APR|2020|\n",
      "|          Subte|25APR2020:00:00:00|   null|      0.0|25APR2020|  25|APR|2020|\n",
      "|          Subte|26APR2020:00:00:00|   null|      0.0|26APR2020|  26|APR|2020|\n",
      "|          Subte|27APR2020:00:00:00|   null|      0.0|27APR2020|  27|APR|2020|\n",
      "|          Subte|28APR2020:00:00:00|   null|      0.0|28APR2020|  28|APR|2020|\n",
      "|          Subte|29APR2020:00:00:00|   null|      0.0|29APR2020|  29|APR|2020|\n",
      "|          Subte|30APR2020:00:00:00|   null|      0.0|30APR2020|  30|APR|2020|\n",
      "|          Subte|01MAY2020:00:00:00|   null|      0.0|01MAY2020|   1|MAY|2020|\n",
      "|          Subte|02MAY2020:00:00:00|   null|      0.0|02MAY2020|   2|MAY|2020|\n",
      "|          Subte|03MAY2020:00:00:00|   null|      0.0|03MAY2020|   3|MAY|2020|\n",
      "|          Subte|04MAY2020:00:00:00|   null|      0.0|04MAY2020|   4|MAY|2020|\n",
      "|          Subte|05MAY2020:00:00:00|   null|      0.0|05MAY2020|   5|MAY|2020|\n",
      "|          Subte|06MAY2020:00:00:00|   null|      0.0|06MAY2020|   6|MAY|2020|\n",
      "|          Subte|07MAY2020:00:00:00|   null|      0.0|07MAY2020|   7|MAY|2020|\n",
      "|          Subte|08MAY2020:00:00:00|   null|      0.0|08MAY2020|   8|MAY|2020|\n",
      "|          Subte|09MAY2020:00:00:00|   null|      0.0|09MAY2020|   9|MAY|2020|\n",
      "|          Subte|10MAY2020:00:00:00|   null|      0.0|10MAY2020|  10|MAY|2020|\n",
      "|          Subte|11MAY2020:00:00:00|   null|      0.0|11MAY2020|  11|MAY|2020|\n",
      "|          Subte|12MAY2020:00:00:00|   null|      0.0|12MAY2020|  12|MAY|2020|\n",
      "|          Subte|13MAY2020:00:00:00|   null|      0.0|13MAY2020|  13|MAY|2020|\n",
      "|          Subte|14MAY2020:00:00:00|   null|      0.0|14MAY2020|  14|MAY|2020|\n",
      "|          Subte|15MAY2020:00:00:00|   null|      0.0|15MAY2020|  15|MAY|2020|\n",
      "|          Subte|16MAY2020:00:00:00|   null|      0.0|16MAY2020|  16|MAY|2020|\n",
      "|          Subte|17MAY2020:00:00:00|   null|      0.0|17MAY2020|  17|MAY|2020|\n",
      "|          Subte|18MAY2020:00:00:00|   null|      0.0|18MAY2020|  18|MAY|2020|\n",
      "|          Subte|19MAY2020:00:00:00|   null|      0.0|19MAY2020|  19|MAY|2020|\n",
      "|          Subte|20MAY2020:00:00:00|   null|      0.0|20MAY2020|  20|MAY|2020|\n",
      "|          Subte|21MAY2020:00:00:00|   null|      0.0|21MAY2020|  21|MAY|2020|\n",
      "|          Subte|22MAY2020:00:00:00|   null|      0.0|22MAY2020|  22|MAY|2020|\n",
      "|          Subte|23MAY2020:00:00:00|   null|      0.0|23MAY2020|  23|MAY|2020|\n",
      "|          Subte|24MAY2020:00:00:00|   null|      0.0|24MAY2020|  24|MAY|2020|\n",
      "|          Subte|25MAY2020:00:00:00|   null|      0.0|25MAY2020|  25|MAY|2020|\n",
      "|          Subte|26MAY2020:00:00:00|   null|      0.0|26MAY2020|  26|MAY|2020|\n",
      "|          Subte|27MAY2020:00:00:00|   null|      0.0|27MAY2020|  27|MAY|2020|\n",
      "|          Subte|28MAY2020:00:00:00|   null|      0.0|28MAY2020|  28|MAY|2020|\n",
      "|          Subte|29MAY2020:00:00:00|   null|      0.0|29MAY2020|  29|MAY|2020|\n",
      "|          Subte|30MAY2020:00:00:00|   null|      0.0|30MAY2020|  30|MAY|2020|\n",
      "|          Subte|31MAY2020:00:00:00|   null|      0.0|31MAY2020|  31|MAY|2020|\n",
      "|          Subte|01JUN2020:00:00:00|   null|      0.0|01JUN2020|   1|JUN|2020|\n",
      "|          Subte|02JUN2020:00:00:00|   null|      0.0|02JUN2020|   2|JUN|2020|\n",
      "|          Subte|03JUN2020:00:00:00|   null|      0.0|03JUN2020|   3|JUN|2020|\n",
      "|          Subte|04JUN2020:00:00:00|   null|      0.0|04JUN2020|   4|JUN|2020|\n",
      "|          Subte|05JUN2020:00:00:00|   null|      0.0|05JUN2020|   5|JUN|2020|\n",
      "|          Subte|06JUN2020:00:00:00|   null|      0.0|06JUN2020|   6|JUN|2020|\n",
      "|          Subte|07JUN2020:00:00:00|   null|      0.0|07JUN2020|   7|JUN|2020|\n",
      "|          Subte|08JUN2020:00:00:00|   null|      0.0|08JUN2020|   8|JUN|2020|\n",
      "|          Subte|09JUN2020:00:00:00|   null|      0.0|09JUN2020|   9|JUN|2020|\n",
      "|          Subte|10JUN2020:00:00:00|   null|      0.0|10JUN2020|  10|JUN|2020|\n",
      "|          Subte|11JUN2020:00:00:00|   null|      0.0|11JUN2020|  11|JUN|2020|\n",
      "|          Subte|12JUN2020:00:00:00|   null|      0.0|12JUN2020|  12|JUN|2020|\n",
      "|          Subte|13JUN2020:00:00:00|   null|      0.0|13JUN2020|  13|JUN|2020|\n",
      "|          Subte|14JUN2020:00:00:00|   null|      0.0|14JUN2020|  14|JUN|2020|\n",
      "|          Subte|15JUN2020:00:00:00|   null|      0.0|15JUN2020|  15|JUN|2020|\n",
      "|          Subte|16JUN2020:00:00:00|   null|      0.0|16JUN2020|  16|JUN|2020|\n",
      "|          Subte|17JUN2020:00:00:00|   null|      0.0|17JUN2020|  17|JUN|2020|\n",
      "|          Subte|18JUN2020:00:00:00|   null|      0.0|18JUN2020|  18|JUN|2020|\n",
      "|          Subte|19JUN2020:00:00:00|   null|      0.0|19JUN2020|  19|JUN|2020|\n",
      "|          Subte|20JUN2020:00:00:00|   null|      0.0|20JUN2020|  20|JUN|2020|\n",
      "|          Subte|21JUN2020:00:00:00|   null|      0.0|21JUN2020|  21|JUN|2020|\n",
      "|          Subte|22JUN2020:00:00:00|   null|      0.0|22JUN2020|  22|JUN|2020|\n",
      "|          Subte|23JUN2020:00:00:00|   null|      0.0|23JUN2020|  23|JUN|2020|\n",
      "|          Subte|24JUN2020:00:00:00|   null|      0.0|24JUN2020|  24|JUN|2020|\n",
      "|          Subte|25JUN2020:00:00:00|   null|      0.0|25JUN2020|  25|JUN|2020|\n",
      "|          Subte|26JUN2020:00:00:00|   null|      0.0|26JUN2020|  26|JUN|2020|\n",
      "|          Subte|27JUN2020:00:00:00|   null|      0.0|27JUN2020|  27|JUN|2020|\n",
      "|          Subte|28JUN2020:00:00:00|   null|      0.0|28JUN2020|  28|JUN|2020|\n",
      "|          Subte|29JUN2020:00:00:00|   null|      0.0|29JUN2020|  29|JUN|2020|\n",
      "|          Subte|30JUN2020:00:00:00|   null|      0.0|30JUN2020|  30|JUN|2020|\n",
      "|           Tren|01MAR2020:00:00:00|   null|      0.0|01MAR2020|   1|MAR|2020|\n",
      "|           Tren|02MAR2020:00:00:00|   null|      0.0|02MAR2020|   2|MAR|2020|\n",
      "|           Tren|03MAR2020:00:00:00|   null|      0.0|03MAR2020|   3|MAR|2020|\n",
      "|           Tren|04MAR2020:00:00:00|   null|      0.0|04MAR2020|   4|MAR|2020|\n",
      "|           Tren|05MAR2020:00:00:00|   null|      0.0|05MAR2020|   5|MAR|2020|\n",
      "|           Tren|06MAR2020:00:00:00|   null|      0.0|06MAR2020|   6|MAR|2020|\n",
      "|           Tren|07MAR2020:00:00:00|   null|      0.0|07MAR2020|   7|MAR|2020|\n",
      "|           Tren|08MAR2020:00:00:00|   null|      0.0|08MAR2020|   8|MAR|2020|\n",
      "|           Tren|09MAR2020:00:00:00|   null|      0.0|09MAR2020|   9|MAR|2020|\n",
      "|           Tren|10MAR2020:00:00:00|   null|      0.0|10MAR2020|  10|MAR|2020|\n",
      "|           Tren|11MAR2020:00:00:00|   null|      0.0|11MAR2020|  11|MAR|2020|\n",
      "|           Tren|12MAR2020:00:00:00|   null|      0.0|12MAR2020|  12|MAR|2020|\n",
      "|           Tren|13MAR2020:00:00:00|   null|      0.0|13MAR2020|  13|MAR|2020|\n",
      "|           Tren|14MAR2020:00:00:00|   null|      0.0|14MAR2020|  14|MAR|2020|\n",
      "|           Tren|15MAR2020:00:00:00|   null|      0.0|15MAR2020|  15|MAR|2020|\n",
      "|           Tren|16MAR2020:00:00:00|   null|      0.0|16MAR2020|  16|MAR|2020|\n",
      "|           Tren|17MAR2020:00:00:00|   null|      0.0|17MAR2020|  17|MAR|2020|\n",
      "|           Tren|18MAR2020:00:00:00|   null|      0.0|18MAR2020|  18|MAR|2020|\n",
      "|           Tren|19MAR2020:00:00:00|   null|      0.0|19MAR2020|  19|MAR|2020|\n",
      "|           Tren|20MAR2020:00:00:00|   null|      0.0|20MAR2020|  20|MAR|2020|\n",
      "|           Tren|21MAR2020:00:00:00|   null|      0.0|21MAR2020|  21|MAR|2020|\n",
      "|           Tren|22MAR2020:00:00:00|   null|      0.0|22MAR2020|  22|MAR|2020|\n",
      "|           Tren|23MAR2020:00:00:00|   null|      0.0|23MAR2020|  23|MAR|2020|\n",
      "|           Tren|24MAR2020:00:00:00|   null|      0.0|24MAR2020|  24|MAR|2020|\n",
      "|           Tren|25MAR2020:00:00:00|   null|      0.0|25MAR2020|  25|MAR|2020|\n",
      "|           Tren|26MAR2020:00:00:00|   null|      0.0|26MAR2020|  26|MAR|2020|\n",
      "|           Tren|27MAR2020:00:00:00|   null|      0.0|27MAR2020|  27|MAR|2020|\n",
      "|           Tren|28MAR2020:00:00:00|   null|      0.0|28MAR2020|  28|MAR|2020|\n",
      "|           Tren|29MAR2020:00:00:00|   null|      0.0|29MAR2020|  29|MAR|2020|\n",
      "|           Tren|30MAR2020:00:00:00|   null|      0.0|30MAR2020|  30|MAR|2020|\n",
      "|           Tren|31MAR2020:00:00:00|   null|      0.0|31MAR2020|  31|MAR|2020|\n",
      "|           Tren|01APR2020:00:00:00|   null|      0.0|01APR2020|   1|APR|2020|\n",
      "|           Tren|02APR2020:00:00:00|   null|      0.0|02APR2020|   2|APR|2020|\n",
      "|           Tren|03APR2020:00:00:00|   null|      0.0|03APR2020|   3|APR|2020|\n",
      "|           Tren|04APR2020:00:00:00|   null|      0.0|04APR2020|   4|APR|2020|\n",
      "|           Tren|05APR2020:00:00:00|   null|      0.0|05APR2020|   5|APR|2020|\n",
      "|           Tren|06APR2020:00:00:00|   null|      0.0|06APR2020|   6|APR|2020|\n",
      "|           Tren|07APR2020:00:00:00|   null|      0.0|07APR2020|   7|APR|2020|\n",
      "|           Tren|08APR2020:00:00:00|   null|      0.0|08APR2020|   8|APR|2020|\n",
      "|           Tren|09APR2020:00:00:00|   null|      0.0|09APR2020|   9|APR|2020|\n",
      "|           Tren|10APR2020:00:00:00|   null|      0.0|10APR2020|  10|APR|2020|\n",
      "|           Tren|11APR2020:00:00:00|   null|      0.0|11APR2020|  11|APR|2020|\n",
      "|           Tren|12APR2020:00:00:00|   null|      0.0|12APR2020|  12|APR|2020|\n",
      "|           Tren|13APR2020:00:00:00|   null|      0.0|13APR2020|  13|APR|2020|\n",
      "|           Tren|14APR2020:00:00:00|   null|      0.0|14APR2020|  14|APR|2020|\n",
      "|           Tren|15APR2020:00:00:00|   null|      0.0|15APR2020|  15|APR|2020|\n",
      "|           Tren|16APR2020:00:00:00|   null|      0.0|16APR2020|  16|APR|2020|\n",
      "|           Tren|17APR2020:00:00:00|   null|      0.0|17APR2020|  17|APR|2020|\n",
      "|           Tren|18APR2020:00:00:00|   null|      0.0|18APR2020|  18|APR|2020|\n",
      "|           Tren|19APR2020:00:00:00|   null|      0.0|19APR2020|  19|APR|2020|\n",
      "|           Tren|20APR2020:00:00:00|   null|      0.0|20APR2020|  20|APR|2020|\n",
      "|           Tren|21APR2020:00:00:00|   null|      0.0|21APR2020|  21|APR|2020|\n",
      "|           Tren|22APR2020:00:00:00|   null|      0.0|22APR2020|  22|APR|2020|\n",
      "|           Tren|23APR2020:00:00:00|   null|      0.0|23APR2020|  23|APR|2020|\n",
      "|           Tren|24APR2020:00:00:00|   null|      0.0|24APR2020|  24|APR|2020|\n",
      "|           Tren|25APR2020:00:00:00|   null|      0.0|25APR2020|  25|APR|2020|\n",
      "|           Tren|26APR2020:00:00:00|   null|      0.0|26APR2020|  26|APR|2020|\n",
      "|           Tren|27APR2020:00:00:00|   null|      0.0|27APR2020|  27|APR|2020|\n",
      "|           Tren|28APR2020:00:00:00|   null|      0.0|28APR2020|  28|APR|2020|\n",
      "|           Tren|29APR2020:00:00:00|   null|      0.0|29APR2020|  29|APR|2020|\n",
      "|           Tren|30APR2020:00:00:00|   null|      0.0|30APR2020|  30|APR|2020|\n",
      "|           Tren|01MAY2020:00:00:00|   null|      0.0|01MAY2020|   1|MAY|2020|\n",
      "|           Tren|02MAY2020:00:00:00|   null|      0.0|02MAY2020|   2|MAY|2020|\n",
      "|           Tren|03MAY2020:00:00:00|   null|      0.0|03MAY2020|   3|MAY|2020|\n",
      "|           Tren|04MAY2020:00:00:00|   null|      0.0|04MAY2020|   4|MAY|2020|\n",
      "|           Tren|05MAY2020:00:00:00|   null|      0.0|05MAY2020|   5|MAY|2020|\n",
      "|           Tren|06MAY2020:00:00:00|   null|      0.0|06MAY2020|   6|MAY|2020|\n",
      "|           Tren|07MAY2020:00:00:00|   null|      0.0|07MAY2020|   7|MAY|2020|\n",
      "|           Tren|08MAY2020:00:00:00|   null|      0.0|08MAY2020|   8|MAY|2020|\n",
      "|           Tren|09MAY2020:00:00:00|   null|      0.0|09MAY2020|   9|MAY|2020|\n",
      "|           Tren|10MAY2020:00:00:00|   null|      0.0|10MAY2020|  10|MAY|2020|\n",
      "|           Tren|11MAY2020:00:00:00|   null|      0.0|11MAY2020|  11|MAY|2020|\n",
      "|           Tren|12MAY2020:00:00:00|   null|      0.0|12MAY2020|  12|MAY|2020|\n",
      "|           Tren|13MAY2020:00:00:00|   null|      0.0|13MAY2020|  13|MAY|2020|\n",
      "|      Colectivo|04MAR2021:00:00:00|  False|2914400.0|04MAR2021|   4|MAR|2021|\n",
      "|          Subte|03MAR2021:00:00:00|   True| 226806.0|03MAR2021|   3|MAR|2021|\n",
      "|          Subte|04MAR2021:00:00:00|  False| 176444.0|04MAR2021|   4|MAR|2021|\n",
      "+---------------+------------------+-------+---------+---------+----+---+----+\n",
      "only showing top 169 rows\n",
      "\n"
     ]
    }
   ],
   "source": [
    "dfsFecha = spark.createDataFrame(dfFecha)\n",
    "dfsFecha.show(169)"
   ]
  },
  {
   "cell_type": "code",
   "execution_count": 12,
   "metadata": {},
   "outputs": [
    {
     "name": "stdout",
     "output_type": "stream",
     "text": [
      "root\n",
      " |-- TIPO_TRANSPORTE: string (nullable = true)\n",
      " |-- DIA: string (nullable = true)\n",
      " |-- PARCIAL: string (nullable = true)\n",
      " |-- CANTIDAD: double (nullable = true)\n",
      " |-- fecha: string (nullable = true)\n",
      " |-- dia2: long (nullable = true)\n",
      " |-- mes: string (nullable = true)\n",
      " |-- anio: long (nullable = true)\n",
      "\n"
     ]
    }
   ],
   "source": [
    "dfsFecha.printSchema()"
   ]
  },
  {
   "cell_type": "code",
   "execution_count": 13,
   "metadata": {},
   "outputs": [
    {
     "name": "stdout",
     "output_type": "stream",
     "text": [
      "root\n",
      " |-- TIPO_TRANSPORTE: string (nullable = true)\n",
      " |-- PARCIAL: string (nullable = true)\n",
      " |-- CANTIDAD: double (nullable = true)\n",
      " |-- dia2: long (nullable = true)\n",
      " |-- mes: string (nullable = true)\n",
      " |-- anio: long (nullable = true)\n",
      "\n"
     ]
    }
   ],
   "source": [
    "dfsFecha = dfsFecha.drop('DIA', 'fecha')\n",
    "dfsFecha.printSchema()"
   ]
  },
  {
   "cell_type": "code",
   "execution_count": 14,
   "metadata": {},
   "outputs": [],
   "source": [
    "##Comienzo a analizar los datos"
   ]
  },
  {
   "cell_type": "code",
   "execution_count": 15,
   "metadata": {},
   "outputs": [
    {
     "name": "stdout",
     "output_type": "stream",
     "text": [
      "+---------------+----+---------------+------------------+\n",
      "|TIPO_TRANSPORTE|anio|cantidad_viajes|   promedio_viajes|\n",
      "+---------------+----+---------------+------------------+\n",
      "|      Colectivo|2021|   6.71633474E8| 2209320.638157895|\n",
      "|           Tren|2021|   1.45074022E8|471019.55194805196|\n",
      "|          Subte|2021|    5.7587147E7|189431.40460526315|\n",
      "|      Colectivo|2020|    4.3681631E7|142750.42810457517|\n",
      "|           Tren|2020|      9962219.0|32450.224755700325|\n",
      "|          Subte|2020|      2958408.0|            9668.0|\n",
      "+---------------+----+---------------+------------------+\n",
      "\n"
     ]
    }
   ],
   "source": [
    "from pyspark.sql.functions import avg, desc, sum\n",
    "\n",
    "dfsFecha.groupBy(['TIPO_TRANSPORTE', 'anio']). \\\n",
    "agg(\n",
    "    sum('CANTIDAD').alias('cantidad_viajes'),\n",
    "    avg('CANTIDAD').alias('promedio_viajes')\n",
    ").orderBy(desc('cantidad_viajes')). \\\n",
    "show()"
   ]
  },
  {
   "cell_type": "code",
   "execution_count": 16,
   "metadata": {},
   "outputs": [
    {
     "name": "stdout",
     "output_type": "stream",
     "text": [
      "+----+-----------------------+\n",
      "|ANIO|cant_registros_por_anio|\n",
      "+----+-----------------------+\n",
      "|2021|                    916|\n",
      "|2020|                    919|\n",
      "+----+-----------------------+\n",
      "\n"
     ]
    }
   ],
   "source": [
    "from pyspark.sql.functions import count, avg, desc\n",
    "\n",
    "dfsFecha.groupBy(['ANIO']). \\\n",
    "agg(\n",
    "    count('*').alias('cant_registros_por_anio')\n",
    ").orderBy(desc('ANIO')). \\\n",
    "show()"
   ]
  },
  {
   "cell_type": "code",
   "execution_count": 17,
   "metadata": {},
   "outputs": [
    {
     "name": "stdout",
     "output_type": "stream",
     "text": [
      "+---------------+--------+----+---+\n",
      "|TIPO_TRANSPORTE|CANTIDAD|anio|mes|\n",
      "+---------------+--------+----+---+\n",
      "|              0|       0|   0|  0|\n",
      "+---------------+--------+----+---+\n",
      "\n"
     ]
    }
   ],
   "source": [
    "#reviso si hay info que este faltando de los campos mas importantes\n",
    "\n",
    "from pyspark.sql.functions import isnan, when, count, col\n",
    "\n",
    "cols = ['TIPO_TRANSPORTE', 'CANTIDAD', 'anio', 'mes']\n",
    "\n",
    "# https://stackoverflow.com/a/44631639/570393\n",
    "dfsFecha.select([count(when(isnan(c) | col(c).isNull(), c)).alias(c) for c in cols]).show()"
   ]
  },
  {
   "cell_type": "markdown",
   "metadata": {},
   "source": [
    "### Pruebo con SQL y reviso algunos datos, ademas de probar hacer los mismos calculos de diferentes formas"
   ]
  },
  {
   "cell_type": "code",
   "execution_count": 18,
   "metadata": {},
   "outputs": [
    {
     "name": "stdout",
     "output_type": "stream",
     "text": [
      "+---------------+----+-------------+------------------+\n",
      "|TIPO_TRANSPORTE|anio|sum(CANTIDAD)|     avg(CANTIDAD)|\n",
      "+---------------+----+-------------+------------------+\n",
      "|      Colectivo|2020|  4.3681631E7|142750.42810457517|\n",
      "|          Subte|2020|    2958408.0|            9668.0|\n",
      "|           Tren|2020|    9962219.0|32450.224755700325|\n",
      "|      Colectivo|2021| 6.71633474E8| 2209320.638157895|\n",
      "|          Subte|2021|  5.7587147E7|189431.40460526315|\n",
      "|           Tren|2021| 1.45074022E8|471019.55194805196|\n",
      "+---------------+----+-------------+------------------+\n",
      "\n"
     ]
    }
   ],
   "source": [
    "dfsFecha.createOrReplaceTempView(\"data\")\n",
    "info = spark.sql(\"\"\"\n",
    "SELECT \n",
    "    TIPO_TRANSPORTE, anio, SUM(CANTIDAD), AVG(CANTIDAD)\n",
    "FROM data\n",
    "GROUP BY TIPO_TRANSPORTE, anio\n",
    "ORDER BY anio, TIPO_TRANSPORTE\n",
    "\"\"\")\n",
    "info.show(189)"
   ]
  },
  {
   "cell_type": "code",
   "execution_count": 19,
   "metadata": {},
   "outputs": [
    {
     "name": "stdout",
     "output_type": "stream",
     "text": [
      "+-------------------------+\n",
      "|TIPO_TRANSPORTE_freqItems|\n",
      "+-------------------------+\n",
      "|[Colectivo, Subte, Tren] |\n",
      "+-------------------------+\n",
      "\n"
     ]
    }
   ],
   "source": [
    "dfsFecha.freqItems(['TIPO_TRANSPORTE']).show(truncate=False)"
   ]
  },
  {
   "cell_type": "code",
   "execution_count": 20,
   "metadata": {},
   "outputs": [
    {
     "name": "stdout",
     "output_type": "stream",
     "text": [
      "+-------+---------------+------------------+----+\n",
      "|summary|TIPO_TRANSPORTE|              anio| mes|\n",
      "+-------+---------------+------------------+----+\n",
      "|  count|           1835|              1835|1835|\n",
      "|   mean|           null|2020.4991825613079|null|\n",
      "| stddev|           null|0.5001356271029174|null|\n",
      "|    min|      Colectivo|              2020| APR|\n",
      "|    max|           Tren|              2021| SEP|\n",
      "+-------+---------------+------------------+----+\n",
      "\n"
     ]
    }
   ],
   "source": [
    "dfsFecha.select('TIPO_TRANSPORTE', 'anio', 'mes').describe().show()"
   ]
  },
  {
   "cell_type": "code",
   "execution_count": 21,
   "metadata": {},
   "outputs": [
    {
     "name": "stdout",
     "output_type": "stream",
     "text": [
      "+---------------+-------------+\n",
      "|TIPO_TRANSPORTE|sum(CANTIDAD)|\n",
      "+---------------+-------------+\n",
      "|          Subte|     60545555|\n",
      "|           Tren|    155036241|\n",
      "|      Colectivo|    715315105|\n",
      "+---------------+-------------+\n",
      "\n"
     ]
    }
   ],
   "source": [
    "df.groupby('TIPO_TRANSPORTE').agg({'CANTIDAD': 'sum'}).sort('sum(CANTIDAD)').show()"
   ]
  },
  {
   "cell_type": "markdown",
   "metadata": {},
   "source": [
    "# Graficos con herramientas de visualizacion con pandas"
   ]
  },
  {
   "cell_type": "code",
   "execution_count": 22,
   "metadata": {},
   "outputs": [],
   "source": [
    "df_pfecha = dfsFecha.groupBy('TIPO_TRANSPORTE','anio').agg(avg('CANTIDAD').alias('promedio_viajes')).orderBy('promedio_viajes')\n",
    "df_visual = df_pfecha.toPandas()"
   ]
  },
  {
   "cell_type": "code",
   "execution_count": 23,
   "metadata": {},
   "outputs": [
    {
     "data": {
      "text/html": [
       "<div>\n",
       "<style scoped>\n",
       "    .dataframe tbody tr th:only-of-type {\n",
       "        vertical-align: middle;\n",
       "    }\n",
       "\n",
       "    .dataframe tbody tr th {\n",
       "        vertical-align: top;\n",
       "    }\n",
       "\n",
       "    .dataframe thead th {\n",
       "        text-align: right;\n",
       "    }\n",
       "</style>\n",
       "<table border=\"1\" class=\"dataframe\">\n",
       "  <thead>\n",
       "    <tr style=\"text-align: right;\">\n",
       "      <th></th>\n",
       "      <th>TIPO_TRANSPORTE</th>\n",
       "      <th>anio</th>\n",
       "      <th>promedio_viajes</th>\n",
       "    </tr>\n",
       "  </thead>\n",
       "  <tbody>\n",
       "    <tr>\n",
       "      <th>0</th>\n",
       "      <td>Subte</td>\n",
       "      <td>2020</td>\n",
       "      <td>9.668000e+03</td>\n",
       "    </tr>\n",
       "    <tr>\n",
       "      <th>1</th>\n",
       "      <td>Tren</td>\n",
       "      <td>2020</td>\n",
       "      <td>3.245022e+04</td>\n",
       "    </tr>\n",
       "    <tr>\n",
       "      <th>2</th>\n",
       "      <td>Colectivo</td>\n",
       "      <td>2020</td>\n",
       "      <td>1.427504e+05</td>\n",
       "    </tr>\n",
       "    <tr>\n",
       "      <th>3</th>\n",
       "      <td>Subte</td>\n",
       "      <td>2021</td>\n",
       "      <td>1.894314e+05</td>\n",
       "    </tr>\n",
       "    <tr>\n",
       "      <th>4</th>\n",
       "      <td>Tren</td>\n",
       "      <td>2021</td>\n",
       "      <td>4.710196e+05</td>\n",
       "    </tr>\n",
       "    <tr>\n",
       "      <th>5</th>\n",
       "      <td>Colectivo</td>\n",
       "      <td>2021</td>\n",
       "      <td>2.209321e+06</td>\n",
       "    </tr>\n",
       "  </tbody>\n",
       "</table>\n",
       "</div>"
      ],
      "text/plain": [
       "  TIPO_TRANSPORTE  anio  promedio_viajes\n",
       "0           Subte  2020     9.668000e+03\n",
       "1            Tren  2020     3.245022e+04\n",
       "2       Colectivo  2020     1.427504e+05\n",
       "3           Subte  2021     1.894314e+05\n",
       "4            Tren  2021     4.710196e+05\n",
       "5       Colectivo  2021     2.209321e+06"
      ]
     },
     "execution_count": 23,
     "metadata": {},
     "output_type": "execute_result"
    }
   ],
   "source": [
    "df_visual"
   ]
  },
  {
   "cell_type": "code",
   "execution_count": 24,
   "metadata": {},
   "outputs": [
    {
     "data": {
      "image/png": "[encoded data removed]",
      "text/plain": [
       "<Figure size 1440x432 with 1 Axes>"
      ]
     },
     "metadata": {
      "needs_background": "light"
     },
     "output_type": "display_data"
    }
   ],
   "source": [
    "import matplotlib.pyplot as plt\n",
    "%matplotlib inline\n",
    "\n",
    "df_visual.plot.bar(x='anio', y='promedio_viajes', figsize=(20,6), color = plt.cm.Paired(range(3)), title = \"Promedio de viajes\");"
   ]
  },
  {
   "cell_type": "code",
   "execution_count": 25,
   "metadata": {},
   "outputs": [],
   "source": [
    "dfsFecha.createOrReplaceTempView(\"data\")\n",
    "info2 = spark.sql(\"\"\"\n",
    "SELECT \n",
    "    TIPO_TRANSPORTE, anio, SUM(CANTIDAD) as viajes\n",
    "FROM data\n",
    "WHERE anio = 2020\n",
    "GROUP BY TIPO_TRANSPORTE, anio\n",
    "ORDER BY anio, TIPO_TRANSPORTE\n",
    "\"\"\")\n",
    "\n",
    "df_visual2 = info2.toPandas()"
   ]
  },
  {
   "cell_type": "code",
   "execution_count": 26,
   "metadata": {},
   "outputs": [
    {
     "data": {
      "text/plain": [
       "array([<matplotlib.axes._subplots.AxesSubplot object at 0x7f5c7d797dd8>],\n",
       "      dtype=object)"
      ]
     },
     "execution_count": 26,
     "metadata": {},
     "output_type": "execute_result"
    },
    {
     "data": {
      "image/png": "[encoded data removed]",
      "text/plain": [
       "<Figure size 360x360 with 1 Axes>"
      ]
     },
     "metadata": {},
     "output_type": "display_data"
    }
   ],
   "source": [
    "df_visual2.plot.pie( y='viajes',figsize=(5,5), labels = df_visual['TIPO_TRANSPORTE'], subplots = True, title = \"Viajes 2020\")"
   ]
  }
 ],
 "metadata": {
  "kernelspec": {
   "display_name": "Python 3",
   "language": "python",
   "name": "python3"
  },
  "language_info": {
   "codemirror_mode": {
    "name": "ipython",
    "version": 3
   },
   "file_extension": ".py",
   "mimetype": "text/x-python",
   "name": "python",
   "nbconvert_exporter": "python",
   "pygments_lexer": "ipython3",
   "version": "3.7.3"
  }
 },
 "nbformat": 4,
 "nbformat_minor": 2
}
